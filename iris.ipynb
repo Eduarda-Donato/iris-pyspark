{
 "cells": [
  {
   "cell_type": "code",
   "execution_count": 151,
   "id": "f35b714c-08d8-42c7-bf7b-c5a6f49ae6f7",
   "metadata": {},
   "outputs": [
    {
     "name": "stdout",
     "output_type": "stream",
     "text": [
      "Requirement already satisfied: numpy in /usr/local/lib/python3.10/site-packages (2.2.6)\n",
      "\u001b[33mWARNING: Running pip as the 'root' user can result in broken permissions and conflicting behaviour with the system package manager, possibly rendering your system unusable.It is recommended to use a virtual environment instead: https://pip.pypa.io/warnings/venv. Use the --root-user-action option if you know what you are doing and want to suppress this warning.\u001b[0m\u001b[33m\n",
      "\u001b[0m\n",
      "\u001b[1m[\u001b[0m\u001b[34;49mnotice\u001b[0m\u001b[1;39;49m]\u001b[0m\u001b[39;49m A new release of pip is available: \u001b[0m\u001b[31;49m24.3.1\u001b[0m\u001b[39;49m -> \u001b[0m\u001b[32;49m25.2\u001b[0m\n",
      "\u001b[1m[\u001b[0m\u001b[34;49mnotice\u001b[0m\u001b[1;39;49m]\u001b[0m\u001b[39;49m To update, run: \u001b[0m\u001b[32;49mpip install --upgrade pip\u001b[0m\n",
      "Requirement already satisfied: scikit-learn in /usr/local/lib/python3.10/site-packages (1.7.1)\n",
      "Requirement already satisfied: numpy>=1.22.0 in /usr/local/lib/python3.10/site-packages (from scikit-learn) (2.2.6)\n",
      "Requirement already satisfied: scipy>=1.8.0 in /usr/local/lib/python3.10/site-packages (from scikit-learn) (1.15.3)\n",
      "Requirement already satisfied: joblib>=1.2.0 in /usr/local/lib/python3.10/site-packages (from scikit-learn) (1.5.1)\n",
      "Requirement already satisfied: threadpoolctl>=3.1.0 in /usr/local/lib/python3.10/site-packages (from scikit-learn) (3.6.0)\n",
      "\u001b[33mWARNING: Running pip as the 'root' user can result in broken permissions and conflicting behaviour with the system package manager, possibly rendering your system unusable.It is recommended to use a virtual environment instead: https://pip.pypa.io/warnings/venv. Use the --root-user-action option if you know what you are doing and want to suppress this warning.\u001b[0m\u001b[33m\n",
      "\u001b[0m\n",
      "\u001b[1m[\u001b[0m\u001b[34;49mnotice\u001b[0m\u001b[1;39;49m]\u001b[0m\u001b[39;49m A new release of pip is available: \u001b[0m\u001b[31;49m24.3.1\u001b[0m\u001b[39;49m -> \u001b[0m\u001b[32;49m25.2\u001b[0m\n",
      "\u001b[1m[\u001b[0m\u001b[34;49mnotice\u001b[0m\u001b[1;39;49m]\u001b[0m\u001b[39;49m To update, run: \u001b[0m\u001b[32;49mpip install --upgrade pip\u001b[0m\n"
     ]
    }
   ],
   "source": [
    "!pip install numpy\n",
    "!pip install scikit-learn"
   ]
  },
  {
   "cell_type": "code",
   "execution_count": 248,
   "id": "567290d8-d79c-41cf-9158-dc735af3bd8e",
   "metadata": {},
   "outputs": [],
   "source": [
    "from pyspark.sql import SparkSession\n",
    "import numpy as np\n",
    "from sklearn.metrics import confusion_matrix\n",
    "\n",
    "from pyspark.ml import Pipeline\n",
    "from pyspark.ml.feature import VectorAssembler, StandardScaler\n",
    "\n",
    "from pyspark.ml.stat import Correlation\n",
    "from pyspark.ml.feature import StringIndexer, OneHotEncoder\n",
    "from pyspark.ml.classification import LogisticRegression, DecisionTreeClassifier, NaiveBayes\n",
    "from pyspark.ml.evaluation import MulticlassClassificationEvaluator"
   ]
  },
  {
   "cell_type": "code",
   "execution_count": 249,
   "id": "ac497138-b2eb-40ba-a0a0-1fb02bab91ca",
   "metadata": {},
   "outputs": [
    {
     "data": {
      "text/html": [
       "\n",
       "            <div>\n",
       "                <p><b>SparkSession - in-memory</b></p>\n",
       "                \n",
       "        <div>\n",
       "            <p><b>SparkContext</b></p>\n",
       "\n",
       "            <p><a href=\"http://bf6da577d99f:4040\">Spark UI</a></p>\n",
       "\n",
       "            <dl>\n",
       "              <dt>Version</dt>\n",
       "                <dd><code>v3.3.0</code></dd>\n",
       "              <dt>Master</dt>\n",
       "                <dd><code>local[*]</code></dd>\n",
       "              <dt>AppName</dt>\n",
       "                <dd><code>IRIS</code></dd>\n",
       "            </dl>\n",
       "        </div>\n",
       "        \n",
       "            </div>\n",
       "        "
      ],
      "text/plain": [
       "<pyspark.sql.session.SparkSession at 0x7f01b3a49d50>"
      ]
     },
     "execution_count": 249,
     "metadata": {},
     "output_type": "execute_result"
    }
   ],
   "source": [
    "spark = (\n",
    "    SparkSession\n",
    "    .builder\n",
    "    .appName(\"IRIS\")\n",
    "    .master(\"local[*]\")\n",
    "    .getOrCreate()\n",
    ")\n",
    "\n",
    "spark"
   ]
  },
  {
   "cell_type": "code",
   "execution_count": 250,
   "id": "bb6bb556-fb1f-46dc-8f92-6984a2bbcf49",
   "metadata": {},
   "outputs": [],
   "source": [
    "df = spark.read.csv('data/Iris.csv', header=True, inferSchema=True)"
   ]
  },
  {
   "cell_type": "code",
   "execution_count": 251,
   "id": "8977542a-0504-453c-9d9f-affa78c35d92",
   "metadata": {},
   "outputs": [
    {
     "name": "stdout",
     "output_type": "stream",
     "text": [
      "+---+-------------+------------+-------------+------------+-----------+\n",
      "| Id|SepalLengthCm|SepalWidthCm|PetalLengthCm|PetalWidthCm|    Species|\n",
      "+---+-------------+------------+-------------+------------+-----------+\n",
      "|  1|          5.1|         3.5|          1.4|         0.2|Iris-setosa|\n",
      "|  2|          4.9|         3.0|          1.4|         0.2|Iris-setosa|\n",
      "|  3|          4.7|         3.2|          1.3|         0.2|Iris-setosa|\n",
      "|  4|          4.6|         3.1|          1.5|         0.2|Iris-setosa|\n",
      "|  5|          5.0|         3.6|          1.4|         0.2|Iris-setosa|\n",
      "|  6|          5.4|         3.9|          1.7|         0.4|Iris-setosa|\n",
      "|  7|          4.6|         3.4|          1.4|         0.3|Iris-setosa|\n",
      "|  8|          5.0|         3.4|          1.5|         0.2|Iris-setosa|\n",
      "|  9|          4.4|         2.9|          1.4|         0.2|Iris-setosa|\n",
      "| 10|          4.9|         3.1|          1.5|         0.1|Iris-setosa|\n",
      "| 11|          5.4|         3.7|          1.5|         0.2|Iris-setosa|\n",
      "| 12|          4.8|         3.4|          1.6|         0.2|Iris-setosa|\n",
      "| 13|          4.8|         3.0|          1.4|         0.1|Iris-setosa|\n",
      "| 14|          4.3|         3.0|          1.1|         0.1|Iris-setosa|\n",
      "| 15|          5.8|         4.0|          1.2|         0.2|Iris-setosa|\n",
      "| 16|          5.7|         4.4|          1.5|         0.4|Iris-setosa|\n",
      "| 17|          5.4|         3.9|          1.3|         0.4|Iris-setosa|\n",
      "| 18|          5.1|         3.5|          1.4|         0.3|Iris-setosa|\n",
      "| 19|          5.7|         3.8|          1.7|         0.3|Iris-setosa|\n",
      "| 20|          5.1|         3.8|          1.5|         0.3|Iris-setosa|\n",
      "+---+-------------+------------+-------------+------------+-----------+\n",
      "only showing top 20 rows\n",
      "\n"
     ]
    }
   ],
   "source": [
    "df.show()"
   ]
  },
  {
   "cell_type": "code",
   "execution_count": 252,
   "id": "bd0bd794-6e84-43b6-a4ce-7bbc07ad2237",
   "metadata": {},
   "outputs": [
    {
     "name": "stdout",
     "output_type": "stream",
     "text": [
      "150\n"
     ]
    }
   ],
   "source": [
    "print(df.count())"
   ]
  },
  {
   "cell_type": "code",
   "execution_count": 253,
   "id": "573a9366-f656-4314-a2b8-700b1d8c9c2e",
   "metadata": {},
   "outputs": [],
   "source": [
    "df = df.drop('Id')"
   ]
  },
  {
   "cell_type": "code",
   "execution_count": 254,
   "id": "15b74d01-c780-4fac-8884-ab54b25587af",
   "metadata": {},
   "outputs": [
    {
     "name": "stdout",
     "output_type": "stream",
     "text": [
      "root\n",
      " |-- SepalLengthCm: double (nullable = true)\n",
      " |-- SepalWidthCm: double (nullable = true)\n",
      " |-- PetalLengthCm: double (nullable = true)\n",
      " |-- PetalWidthCm: double (nullable = true)\n",
      " |-- Species: string (nullable = true)\n",
      "\n"
     ]
    }
   ],
   "source": [
    "df.printSchema()"
   ]
  },
  {
   "cell_type": "code",
   "execution_count": 255,
   "id": "27eae698-b71a-457c-92dc-e8fa17f73368",
   "metadata": {},
   "outputs": [
    {
     "name": "stdout",
     "output_type": "stream",
     "text": [
      "+-------+------------------+-------------------+------------------+------------------+--------------+\n",
      "|summary|     SepalLengthCm|       SepalWidthCm|     PetalLengthCm|      PetalWidthCm|       Species|\n",
      "+-------+------------------+-------------------+------------------+------------------+--------------+\n",
      "|  count|               150|                150|               150|               150|           150|\n",
      "|   mean| 5.843333333333335| 3.0540000000000007|3.7586666666666693|1.1986666666666672|          null|\n",
      "| stddev|0.8280661279778637|0.43359431136217375| 1.764420419952262|0.7631607417008414|          null|\n",
      "|    min|               4.3|                2.0|               1.0|               0.1|   Iris-setosa|\n",
      "|    max|               7.9|                4.4|               6.9|               2.5|Iris-virginica|\n",
      "+-------+------------------+-------------------+------------------+------------------+--------------+\n",
      "\n"
     ]
    }
   ],
   "source": [
    "df.describe().show()"
   ]
  },
  {
   "cell_type": "code",
   "execution_count": 256,
   "id": "c491e01e-6090-4436-9a8e-c4c6565cb477",
   "metadata": {},
   "outputs": [
    {
     "name": "stdout",
     "output_type": "stream",
     "text": [
      "+---------------+-----+\n",
      "|        Species|count|\n",
      "+---------------+-----+\n",
      "| Iris-virginica|   50|\n",
      "|    Iris-setosa|   50|\n",
      "|Iris-versicolor|   50|\n",
      "+---------------+-----+\n",
      "\n"
     ]
    }
   ],
   "source": [
    "df.groupBy('Species').count().show()"
   ]
  },
  {
   "cell_type": "code",
   "execution_count": 257,
   "id": "36ea10e0-5ef1-4f2c-aebe-887be72c67b9",
   "metadata": {},
   "outputs": [
    {
     "name": "stdout",
     "output_type": "stream",
     "text": [
      "+-------------+------------+-------------+------------+--------------+-----+\n",
      "|SepalLengthCm|SepalWidthCm|PetalLengthCm|PetalWidthCm|Species       |count|\n",
      "+-------------+------------+-------------+------------+--------------+-----+\n",
      "|4.9          |3.1         |1.5          |0.1         |Iris-setosa   |3    |\n",
      "|5.8          |2.7         |5.1          |1.9         |Iris-virginica|2    |\n",
      "+-------------+------------+-------------+------------+--------------+-----+\n",
      "\n"
     ]
    }
   ],
   "source": [
    "# Show Duplicates\n",
    "df.groupBy(df.columns).count().filter('count>1').show(truncate=False)"
   ]
  },
  {
   "cell_type": "code",
   "execution_count": 258,
   "id": "930606e5-8a42-4d97-b51e-d93aea338cf1",
   "metadata": {},
   "outputs": [],
   "source": [
    "df = df.dropDuplicates()"
   ]
  },
  {
   "cell_type": "code",
   "execution_count": 259,
   "id": "44cd53d9-5b02-4191-9a0c-a02db3e1e9e0",
   "metadata": {},
   "outputs": [],
   "source": [
    "train_df, test_df = df.randomSplit([0.8, 0.2],seed=42)"
   ]
  },
  {
   "cell_type": "code",
   "execution_count": 260,
   "id": "da4db9e2-8e1b-47b0-a402-6a1c0110ee03",
   "metadata": {},
   "outputs": [],
   "source": [
    "feat = ['SepalLengthCm','SepalWidthCm','PetalLengthCm','PetalWidthCm']\n",
    "\n",
    "# Coding the label\n",
    "indexer = StringIndexer(inputCol=\"Species\", outputCol='Label',handleInvalid=\"keep\")\n",
    "\n",
    "# Single vector features\n",
    "assembler = VectorAssembler(inputCols=feat, outputCol='features')\n",
    "\n",
    "# \n",
    "scaler = StandardScaler(inputCol=\"features\", outputCol=\"scaled_features\", withMean=False, withStd=True)\n",
    "\n",
    "pipeline = Pipeline(stages=[indexer,assembler,scaler])\n",
    "pipeline_model = pipeline.fit(train_df)\n",
    "\n",
    "train = pipeline_model.transform(train_df)\n",
    "test = pipeline_model.transform(test_df)"
   ]
  },
  {
   "cell_type": "code",
   "execution_count": 261,
   "id": "d66ba600-1763-45f7-a172-51ca8cc59cb9",
   "metadata": {},
   "outputs": [
    {
     "name": "stdout",
     "output_type": "stream",
     "text": [
      "+-------------+------------+-------------+------------+---------------+-----+-----------------+--------------------+\n",
      "|SepalLengthCm|SepalWidthCm|PetalLengthCm|PetalWidthCm|        Species|Label|         features|     scaled_features|\n",
      "+-------------+------------+-------------+------------+---------------+-----+-----------------+--------------------+\n",
      "|          4.3|         3.0|          1.1|         0.1|    Iris-setosa|  2.0|[4.3,3.0,1.1,0.1]|[5.13903783422384...|\n",
      "|          4.4|         2.9|          1.4|         0.2|    Iris-setosa|  2.0|[4.4,2.9,1.4,0.2]|[5.25855034199649...|\n",
      "|          4.4|         3.2|          1.3|         0.2|    Iris-setosa|  2.0|[4.4,3.2,1.3,0.2]|[5.25855034199649...|\n",
      "|          4.5|         2.3|          1.3|         0.3|    Iris-setosa|  2.0|[4.5,2.3,1.3,0.3]|[5.37806284976913...|\n",
      "|          4.6|         3.1|          1.5|         0.2|    Iris-setosa|  2.0|[4.6,3.1,1.5,0.2]|[5.49757535754178...|\n",
      "|          4.6|         3.4|          1.4|         0.3|    Iris-setosa|  2.0|[4.6,3.4,1.4,0.3]|[5.49757535754178...|\n",
      "|          4.7|         3.2|          1.3|         0.2|    Iris-setosa|  2.0|[4.7,3.2,1.3,0.2]|[5.61708786531443...|\n",
      "|          4.7|         3.2|          1.6|         0.2|    Iris-setosa|  2.0|[4.7,3.2,1.6,0.2]|[5.61708786531443...|\n",
      "|          4.8|         3.0|          1.4|         0.1|    Iris-setosa|  2.0|[4.8,3.0,1.4,0.1]|[5.73660037308708...|\n",
      "|          4.8|         3.0|          1.4|         0.3|    Iris-setosa|  2.0|[4.8,3.0,1.4,0.3]|[5.73660037308708...|\n",
      "|          4.8|         3.4|          1.6|         0.2|    Iris-setosa|  2.0|[4.8,3.4,1.6,0.2]|[5.73660037308708...|\n",
      "|          4.8|         3.4|          1.9|         0.2|    Iris-setosa|  2.0|[4.8,3.4,1.9,0.2]|[5.73660037308708...|\n",
      "|          4.9|         2.4|          3.3|         1.0|Iris-versicolor|  1.0|[4.9,2.4,3.3,1.0]|[5.85611288085973...|\n",
      "|          4.9|         2.5|          4.5|         1.7| Iris-virginica|  0.0|[4.9,2.5,4.5,1.7]|[5.85611288085973...|\n",
      "|          4.9|         3.0|          1.4|         0.2|    Iris-setosa|  2.0|[4.9,3.0,1.4,0.2]|[5.85611288085973...|\n",
      "|          5.0|         2.0|          3.5|         1.0|Iris-versicolor|  1.0|[5.0,2.0,3.5,1.0]|[5.97562538863237...|\n",
      "|          5.0|         2.3|          3.3|         1.0|Iris-versicolor|  1.0|[5.0,2.3,3.3,1.0]|[5.97562538863237...|\n",
      "|          5.0|         3.0|          1.6|         0.2|    Iris-setosa|  2.0|[5.0,3.0,1.6,0.2]|[5.97562538863237...|\n",
      "|          5.0|         3.3|          1.4|         0.2|    Iris-setosa|  2.0|[5.0,3.3,1.4,0.2]|[5.97562538863237...|\n",
      "|          5.0|         3.4|          1.5|         0.2|    Iris-setosa|  2.0|[5.0,3.4,1.5,0.2]|[5.97562538863237...|\n",
      "+-------------+------------+-------------+------------+---------------+-----+-----------------+--------------------+\n",
      "only showing top 20 rows\n",
      "\n"
     ]
    }
   ],
   "source": [
    "train.show()"
   ]
  },
  {
   "cell_type": "code",
   "execution_count": 262,
   "id": "6033eb7d-d4f5-41eb-88fe-275a806fe4d6",
   "metadata": {},
   "outputs": [
    {
     "name": "stdout",
     "output_type": "stream",
     "text": [
      "Matriz de correlação:\n",
      "[[ 1.         -0.05390719  0.87040641  0.80438877]\n",
      " [-0.05390719  1.         -0.36550151 -0.30400807]\n",
      " [ 0.87040641 -0.36550151  1.          0.95732899]\n",
      " [ 0.80438877 -0.30400807  0.95732899  1.        ]]\n"
     ]
    }
   ],
   "source": [
    "# Show Correlation Matrix\n",
    "train_vector = train.select('features')\n",
    "\n",
    "matrix = Correlation.corr(train_vector, 'features').head()[0]\n",
    "\n",
    "print(\"Matriz de correlação:\\n\" + str(matrix.toArray()))"
   ]
  },
  {
   "cell_type": "code",
   "execution_count": 263,
   "id": "578a5888-c06b-499d-a8e3-9d274343e3e9",
   "metadata": {},
   "outputs": [],
   "source": [
    "train = train.select('scaled_features', 'Label')\n",
    "test = test.select('scaled_features', 'Label')"
   ]
  },
  {
   "cell_type": "code",
   "execution_count": 264,
   "id": "4dc22981-9fb6-4f23-ad35-6518f92a7225",
   "metadata": {},
   "outputs": [
    {
     "name": "stdout",
     "output_type": "stream",
     "text": [
      "+--------------------+-----+\n",
      "|     scaled_features|Label|\n",
      "+--------------------+-----+\n",
      "|[5.13903783422384...|  2.0|\n",
      "|[5.25855034199649...|  2.0|\n",
      "|[5.25855034199649...|  2.0|\n",
      "|[5.37806284976913...|  2.0|\n",
      "|[5.49757535754178...|  2.0|\n",
      "|[5.49757535754178...|  2.0|\n",
      "|[5.61708786531443...|  2.0|\n",
      "|[5.61708786531443...|  2.0|\n",
      "|[5.73660037308708...|  2.0|\n",
      "|[5.73660037308708...|  2.0|\n",
      "|[5.73660037308708...|  2.0|\n",
      "|[5.73660037308708...|  2.0|\n",
      "|[5.85611288085973...|  1.0|\n",
      "|[5.85611288085973...|  0.0|\n",
      "|[5.85611288085973...|  2.0|\n",
      "|[5.97562538863237...|  1.0|\n",
      "|[5.97562538863237...|  1.0|\n",
      "|[5.97562538863237...|  2.0|\n",
      "|[5.97562538863237...|  2.0|\n",
      "|[5.97562538863237...|  2.0|\n",
      "+--------------------+-----+\n",
      "only showing top 20 rows\n",
      "\n"
     ]
    }
   ],
   "source": [
    "train.show()"
   ]
  },
  {
   "cell_type": "code",
   "execution_count": 265,
   "id": "4480c18c-21b3-4714-8020-818357b290ad",
   "metadata": {},
   "outputs": [],
   "source": [
    "classifiers = [\n",
    "    (\"NaiveBayes\", NaiveBayes(featuresCol='scaled_features', labelCol='Label')),\n",
    "    (\"LogisticRegression\", LogisticRegression(featuresCol='scaled_features', labelCol='Label')),\n",
    "    (\"DecisionTree\", DecisionTreeClassifier(featuresCol='scaled_features', labelCol='Label'))\n",
    "]\n",
    "\n",
    "evaluator = MulticlassClassificationEvaluator(labelCol='Label', predictionCol='prediction')"
   ]
  },
  {
   "cell_type": "code",
   "execution_count": 266,
   "id": "e5cb24ae-a407-4220-9fc2-953fdf9b79f7",
   "metadata": {},
   "outputs": [
    {
     "name": "stdout",
     "output_type": "stream",
     "text": [
      "Precisão do NaiveBayes: 0.9569597069597069\n",
      "--------------------------------------------------\n",
      "Precisão do LogisticRegression: 0.9569597069597069\n",
      "--------------------------------------------------\n",
      "Precisão do DecisionTree: 1.0\n",
      "--------------------------------------------------\n"
     ]
    }
   ],
   "source": [
    "for name, classifier in classifiers:\n",
    "    model = classifier.fit(train)\n",
    "\n",
    "    predictions = model.transform(test)\n",
    "\n",
    "    accuracy = evaluator.evaluate(predictions)\n",
    "\n",
    "    print(f\"Precisão do {name}: {accuracy}\")\n",
    "    print(\"--------------------------------------------------\")\n"
   ]
  },
  {
   "cell_type": "code",
   "execution_count": 267,
   "id": "28afc01b-6603-4e9e-ad34-4c6b12c7d431",
   "metadata": {},
   "outputs": [
    {
     "name": "stdout",
     "output_type": "stream",
     "text": [
      "+--------------------+-----+------------------+-----------------+----------+\n",
      "|     scaled_features|Label|     rawPrediction|      probability|prediction|\n",
      "+--------------------+-----+------------------+-----------------+----------+\n",
      "|[5.25855034199649...|  2.0|[0.0,0.0,34.0,0.0]|[0.0,0.0,1.0,0.0]|       2.0|\n",
      "|[5.49757535754178...|  2.0|[0.0,0.0,34.0,0.0]|[0.0,0.0,1.0,0.0]|       2.0|\n",
      "|[5.49757535754178...|  2.0|[0.0,0.0,34.0,0.0]|[0.0,0.0,1.0,0.0]|       2.0|\n",
      "|[5.73660037308708...|  2.0|[0.0,0.0,34.0,0.0]|[0.0,0.0,1.0,0.0]|       2.0|\n",
      "|[5.85611288085973...|  2.0|[0.0,0.0,34.0,0.0]|[0.0,0.0,1.0,0.0]|       2.0|\n",
      "|[5.97562538863237...|  2.0|[0.0,0.0,34.0,0.0]|[0.0,0.0,1.0,0.0]|       2.0|\n",
      "|[5.97562538863237...|  2.0|[0.0,0.0,34.0,0.0]|[0.0,0.0,1.0,0.0]|       2.0|\n",
      "|[6.09513789640502...|  2.0|[0.0,0.0,34.0,0.0]|[0.0,0.0,1.0,0.0]|       2.0|\n",
      "|[6.45367541972296...|  2.0|[0.0,0.0,34.0,0.0]|[0.0,0.0,1.0,0.0]|       2.0|\n",
      "|[6.45367541972296...|  2.0|[0.0,0.0,34.0,0.0]|[0.0,0.0,1.0,0.0]|       2.0|\n",
      "|[6.45367541972296...|  2.0|[0.0,0.0,34.0,0.0]|[0.0,0.0,1.0,0.0]|       2.0|\n",
      "|[6.45367541972296...|  2.0|[0.0,0.0,34.0,0.0]|[0.0,0.0,1.0,0.0]|       2.0|\n",
      "|[6.57318792749561...|  1.0|[0.0,41.0,0.0,0.0]|[0.0,1.0,0.0,0.0]|       1.0|\n",
      "|[6.57318792749561...|  2.0|[0.0,0.0,34.0,0.0]|[0.0,0.0,1.0,0.0]|       2.0|\n",
      "|[6.69270043526826...|  1.0|[0.0,41.0,0.0,0.0]|[0.0,1.0,0.0,0.0]|       1.0|\n",
      "|[6.81221294304090...|  2.0|[0.0,0.0,34.0,0.0]|[0.0,0.0,1.0,0.0]|       2.0|\n",
      "|[7.05123795858620...|  1.0|[0.0,41.0,0.0,0.0]|[0.0,1.0,0.0,0.0]|       1.0|\n",
      "|[7.52928798967679...|  0.0| [1.0,1.0,0.0,0.0]|[0.5,0.5,0.0,0.0]|       0.0|\n",
      "|[7.76831300522208...|  1.0|[0.0,41.0,0.0,0.0]|[0.0,1.0,0.0,0.0]|       1.0|\n",
      "|[7.76831300522208...|  0.0|[39.0,0.0,0.0,0.0]|[1.0,0.0,0.0,0.0]|       0.0|\n",
      "+--------------------+-----+------------------+-----------------+----------+\n",
      "only showing top 20 rows\n",
      "\n"
     ]
    }
   ],
   "source": [
    "predictions.show()"
   ]
  },
  {
   "cell_type": "code",
   "execution_count": 268,
   "id": "e8041651-d7f4-4af4-8702-763b51e7f6f3",
   "metadata": {},
   "outputs": [
    {
     "name": "stdout",
     "output_type": "stream",
     "text": [
      "+-----+----------+-----+\n",
      "|Label|prediction|count|\n",
      "+-----+----------+-----+\n",
      "|  1.0|       1.0|    6|\n",
      "|  2.0|       2.0|   14|\n",
      "|  0.0|       0.0|    4|\n",
      "+-----+----------+-----+\n",
      "\n"
     ]
    }
   ],
   "source": [
    "# confusion matrix\n",
    "predictions.groupBy('Label', 'prediction').count().show()"
   ]
  },
  {
   "cell_type": "code",
   "execution_count": 130,
   "id": "9aefffd1-b4c4-492a-9b91-97fd6dc0a4e5",
   "metadata": {},
   "outputs": [],
   "source": [
    "spark.stop()"
   ]
  }
 ],
 "metadata": {
  "kernelspec": {
   "display_name": "Python 3 (ipykernel)",
   "language": "python",
   "name": "python3"
  },
  "language_info": {
   "codemirror_mode": {
    "name": "ipython",
    "version": 3
   },
   "file_extension": ".py",
   "mimetype": "text/x-python",
   "name": "python",
   "nbconvert_exporter": "python",
   "pygments_lexer": "ipython3",
   "version": "3.10.16"
  }
 },
 "nbformat": 4,
 "nbformat_minor": 5
}
